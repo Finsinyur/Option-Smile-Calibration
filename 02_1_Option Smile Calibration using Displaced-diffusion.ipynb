{
 "cells": [
  {
   "cell_type": "code",
   "execution_count": 1,
   "id": "7bb828dc",
   "metadata": {},
   "outputs": [],
   "source": [
    "# Import essential libraries\n",
    "import numpy as np\n",
    "import pandas as pd\n",
    "import matplotlib.pyplot as plt\n",
    "import yfinance as yf\n",
    "from datetime import datetime\n",
    "\n",
    "import scipy\n",
    "from scipy import stats\n",
    "from scipy.optimize import brentq, least_squares"
   ]
  },
  {
   "cell_type": "markdown",
   "id": "cee44d6c",
   "metadata": {},
   "source": [
    "# Option Smile Calibration using Displaced-Diffusion Model\n",
    "\n",
    "This notebook demonstrates the use of Displaced-Diffusion (shifted lognormal) Model to fit and calibrate implied volatility smile against observed market data.\n",
    "\n",
    "In this example, the S&P 500 index options are used. The market data was extracted from WRDS, and the prices were based on 01/12/2020. Due to copyright, the data will not be uploaded onto the GitHub. \n",
    "\n",
    "Three expirations are used for this purpose:\n",
    "- Front month contract: 20201218 Expiry\n",
    "- Second month contract: 20210115 Expiry\n",
    "- Third month contract: 20210219 Expiry\n",
    "\n",
    "All options with valid bid- and offer prices are included. The contract is an European option, which can only be exercised on the day of expiry and not earlier.\n",
    "\n",
    "The US Zero curve is used as a proxy for the risk-free rate required in the Option Pricing Model.\n",
    "\n",
    "This is the second notebook fo the Option Smile Calibration series. For a more comprehensive explanation of the background, please refer to `01_Option Smile Calibration using SABR.ipynb`."
   ]
  },
  {
   "cell_type": "markdown",
   "id": "2794335e",
   "metadata": {},
   "source": [
    "## Black-Scholes Option Pricing Model"
   ]
  },
  {
   "cell_type": "code",
   "execution_count": 2,
   "id": "60e08508",
   "metadata": {},
   "outputs": [],
   "source": [
    "def black_scholes_option_pricer(S, K, r, T, sigma, call = True):\n",
    "    '''\n",
    "    Function calculates option prices based on Black-scholes model.\n",
    "    \n",
    "    Inputs:\n",
    "    S: underlying asset price at t; can be an array of prices\n",
    "    K: strike price; can be an array of prices\n",
    "    r: interest rate, annualized\n",
    "    T: time to expiration (also the T-t in our equations), in number of years\n",
    "    sigma: implied volatility of the option\n",
    "    call: default True. True if pricing call options; otherwise False\n",
    "\n",
    "    Outputs: Option Prices.\n",
    "    '''\n",
    "\n",
    "    d2 = (np.log(S/K) +(r - 0.5*np.square(sigma))*(T))/(sigma*np.sqrt(T))\n",
    "    d1 = d2 + sigma*np.sqrt(T)\n",
    "    \n",
    "    if not call:\n",
    "        d2 = -d2\n",
    "        d1 = -d1\n",
    "\n",
    "    option_values = S*scipy.stats.norm.cdf(d1) - K*np.exp(-r*T)*scipy.stats.norm.cdf(d2)\n",
    "    option_values = option_values if call == True else -option_values\n",
    "\n",
    "    return option_values"
   ]
  },
  {
   "cell_type": "markdown",
   "id": "db6cc9c1",
   "metadata": {},
   "source": [
    "## Data Extraction and Exploration\n",
    "\n",
    "Since we are fitting the implied volatility smile of the S&P 500 index option, apart from loading the SPX option prices and the zero curve data, we need to extract the spot price of S&P 500 index on the date of interest.\n",
    "\n",
    "Here, we are using the `yfinance` package, that scrapes the data from Yahoo finance."
   ]
  },
  {
   "cell_type": "code",
   "execution_count": 3,
   "id": "86b3f037",
   "metadata": {},
   "outputs": [],
   "source": [
    "# Load data\n",
    "spx_prices = pd.read_csv('SPX_options.csv') # SPX Option market data\n",
    "zero_rates = pd.read_csv('zero_rates_20201201.csv') # Zero curve data"
   ]
  },
  {
   "cell_type": "code",
   "execution_count": 4,
   "id": "ad3d5041",
   "metadata": {},
   "outputs": [
    {
     "data": {
      "text/html": [
       "<div>\n",
       "<style scoped>\n",
       "    .dataframe tbody tr th:only-of-type {\n",
       "        vertical-align: middle;\n",
       "    }\n",
       "\n",
       "    .dataframe tbody tr th {\n",
       "        vertical-align: top;\n",
       "    }\n",
       "\n",
       "    .dataframe thead th {\n",
       "        text-align: right;\n",
       "    }\n",
       "</style>\n",
       "<table border=\"1\" class=\"dataframe\">\n",
       "  <thead>\n",
       "    <tr style=\"text-align: right;\">\n",
       "      <th></th>\n",
       "      <th>date</th>\n",
       "      <th>exdate</th>\n",
       "      <th>cp_flag</th>\n",
       "      <th>strike_price</th>\n",
       "      <th>best_bid</th>\n",
       "      <th>best_offer</th>\n",
       "      <th>exercise_style</th>\n",
       "    </tr>\n",
       "  </thead>\n",
       "  <tbody>\n",
       "    <tr>\n",
       "      <th>0</th>\n",
       "      <td>20201201</td>\n",
       "      <td>20201218</td>\n",
       "      <td>C</td>\n",
       "      <td>100000</td>\n",
       "      <td>3547.6</td>\n",
       "      <td>3570.5</td>\n",
       "      <td>E</td>\n",
       "    </tr>\n",
       "    <tr>\n",
       "      <th>1</th>\n",
       "      <td>20201201</td>\n",
       "      <td>20201218</td>\n",
       "      <td>C</td>\n",
       "      <td>200000</td>\n",
       "      <td>3447.6</td>\n",
       "      <td>3470.5</td>\n",
       "      <td>E</td>\n",
       "    </tr>\n",
       "    <tr>\n",
       "      <th>2</th>\n",
       "      <td>20201201</td>\n",
       "      <td>20201218</td>\n",
       "      <td>C</td>\n",
       "      <td>300000</td>\n",
       "      <td>3347.7</td>\n",
       "      <td>3370.6</td>\n",
       "      <td>E</td>\n",
       "    </tr>\n",
       "    <tr>\n",
       "      <th>3</th>\n",
       "      <td>20201201</td>\n",
       "      <td>20201218</td>\n",
       "      <td>C</td>\n",
       "      <td>400000</td>\n",
       "      <td>3247.7</td>\n",
       "      <td>3270.6</td>\n",
       "      <td>E</td>\n",
       "    </tr>\n",
       "    <tr>\n",
       "      <th>4</th>\n",
       "      <td>20201201</td>\n",
       "      <td>20201218</td>\n",
       "      <td>C</td>\n",
       "      <td>500000</td>\n",
       "      <td>3147.7</td>\n",
       "      <td>3170.6</td>\n",
       "      <td>E</td>\n",
       "    </tr>\n",
       "  </tbody>\n",
       "</table>\n",
       "</div>"
      ],
      "text/plain": [
       "       date    exdate cp_flag  strike_price  best_bid  best_offer  \\\n",
       "0  20201201  20201218       C        100000    3547.6      3570.5   \n",
       "1  20201201  20201218       C        200000    3447.6      3470.5   \n",
       "2  20201201  20201218       C        300000    3347.7      3370.6   \n",
       "3  20201201  20201218       C        400000    3247.7      3270.6   \n",
       "4  20201201  20201218       C        500000    3147.7      3170.6   \n",
       "\n",
       "  exercise_style  \n",
       "0              E  \n",
       "1              E  \n",
       "2              E  \n",
       "3              E  \n",
       "4              E  "
      ]
     },
     "execution_count": 4,
     "metadata": {},
     "output_type": "execute_result"
    }
   ],
   "source": [
    "spx_prices.head()"
   ]
  },
  {
   "cell_type": "code",
   "execution_count": 5,
   "id": "ca8123f8",
   "metadata": {},
   "outputs": [],
   "source": [
    "# Get the key dates\n",
    "ex_dates = spx_prices.exdate.unique()\n",
    "spot_date = spx_prices.date.unique()[0]"
   ]
  },
  {
   "cell_type": "code",
   "execution_count": 6,
   "id": "9ad3b711",
   "metadata": {},
   "outputs": [
    {
     "name": "stdout",
     "output_type": "stream",
     "text": [
      "The spot price of S&P 500 index on 2020-12-01 is $3662.45.\n"
     ]
    }
   ],
   "source": [
    "# Extract required spot price from yahoo finance API\n",
    "query_start = datetime.strptime(str(spot_date), \"%Y%m%d\").strftime(\"%Y-%m-%d\")\n",
    "query_end = datetime.strptime(str(spot_date+1), \"%Y%m%d\").strftime(\"%Y-%m-%d\")\n",
    "\n",
    "spx_ticker = yf.Ticker(\"^GSPC\")\n",
    "spx_history = spx_ticker.history(start=query_start, end=query_end)\n",
    "spx_spot = spx_history[\"Close\"].values[-1]\n",
    "\n",
    "print('The spot price of S&P 500 index on {} is ${:.2f}.'.format(query_start, spx_spot))"
   ]
  },
  {
   "cell_type": "code",
   "execution_count": 7,
   "id": "24264ea9",
   "metadata": {},
   "outputs": [],
   "source": [
    "def get_AOTM_options(x, spot):\n",
    "    if x['cp_flag'] == 'C':\n",
    "        return True if x['strike_price'] >= spot else False\n",
    "    else:\n",
    "        return True if x['strike_price'] <= spot else False"
   ]
  },
  {
   "cell_type": "code",
   "execution_count": 8,
   "id": "dd1ba8a3",
   "metadata": {},
   "outputs": [
    {
     "data": {
      "text/html": [
       "<div>\n",
       "<style scoped>\n",
       "    .dataframe tbody tr th:only-of-type {\n",
       "        vertical-align: middle;\n",
       "    }\n",
       "\n",
       "    .dataframe tbody tr th {\n",
       "        vertical-align: top;\n",
       "    }\n",
       "\n",
       "    .dataframe thead th {\n",
       "        text-align: right;\n",
       "    }\n",
       "</style>\n",
       "<table border=\"1\" class=\"dataframe\">\n",
       "  <thead>\n",
       "    <tr style=\"text-align: right;\">\n",
       "      <th></th>\n",
       "      <th>date</th>\n",
       "      <th>exdate</th>\n",
       "      <th>cp_flag</th>\n",
       "      <th>strike_price</th>\n",
       "      <th>best_bid</th>\n",
       "      <th>best_offer</th>\n",
       "      <th>exercise_style</th>\n",
       "      <th>AOTM</th>\n",
       "    </tr>\n",
       "  </thead>\n",
       "  <tbody>\n",
       "    <tr>\n",
       "      <th>400</th>\n",
       "      <td>20201201</td>\n",
       "      <td>20201218</td>\n",
       "      <td>C</td>\n",
       "      <td>4400.0</td>\n",
       "      <td>0.0</td>\n",
       "      <td>0.1</td>\n",
       "      <td>E</td>\n",
       "      <td>True</td>\n",
       "    </tr>\n",
       "    <tr>\n",
       "      <th>401</th>\n",
       "      <td>20201201</td>\n",
       "      <td>20201218</td>\n",
       "      <td>C</td>\n",
       "      <td>4500.0</td>\n",
       "      <td>0.0</td>\n",
       "      <td>0.1</td>\n",
       "      <td>E</td>\n",
       "      <td>True</td>\n",
       "    </tr>\n",
       "    <tr>\n",
       "      <th>402</th>\n",
       "      <td>20201201</td>\n",
       "      <td>20201218</td>\n",
       "      <td>C</td>\n",
       "      <td>4600.0</td>\n",
       "      <td>0.0</td>\n",
       "      <td>0.1</td>\n",
       "      <td>E</td>\n",
       "      <td>True</td>\n",
       "    </tr>\n",
       "    <tr>\n",
       "      <th>403</th>\n",
       "      <td>20201201</td>\n",
       "      <td>20201218</td>\n",
       "      <td>C</td>\n",
       "      <td>4700.0</td>\n",
       "      <td>0.0</td>\n",
       "      <td>0.1</td>\n",
       "      <td>E</td>\n",
       "      <td>True</td>\n",
       "    </tr>\n",
       "    <tr>\n",
       "      <th>404</th>\n",
       "      <td>20201201</td>\n",
       "      <td>20201218</td>\n",
       "      <td>C</td>\n",
       "      <td>4800.0</td>\n",
       "      <td>0.0</td>\n",
       "      <td>0.1</td>\n",
       "      <td>E</td>\n",
       "      <td>True</td>\n",
       "    </tr>\n",
       "  </tbody>\n",
       "</table>\n",
       "</div>"
      ],
      "text/plain": [
       "         date    exdate cp_flag  strike_price  best_bid  best_offer  \\\n",
       "400  20201201  20201218       C        4400.0       0.0         0.1   \n",
       "401  20201201  20201218       C        4500.0       0.0         0.1   \n",
       "402  20201201  20201218       C        4600.0       0.0         0.1   \n",
       "403  20201201  20201218       C        4700.0       0.0         0.1   \n",
       "404  20201201  20201218       C        4800.0       0.0         0.1   \n",
       "\n",
       "    exercise_style  AOTM  \n",
       "400              E  True  \n",
       "401              E  True  \n",
       "402              E  True  \n",
       "403              E  True  \n",
       "404              E  True  "
      ]
     },
     "execution_count": 8,
     "metadata": {},
     "output_type": "execute_result"
    }
   ],
   "source": [
    "spx_prices['strike_price'] *= 0.001\n",
    "spx_prices['AOTM'] = spx_prices.apply(lambda x: get_AOTM_options(x, spx_spot), axis = 1)\n",
    "spx_prices.loc[(spx_prices['best_bid'] == 0)].head()"
   ]
  },
  {
   "cell_type": "code",
   "execution_count": 9,
   "id": "b6be403a",
   "metadata": {},
   "outputs": [
    {
     "name": "stdout",
     "output_type": "stream",
     "text": [
      "The days to expiry of the contracts are [17 45 80]\n"
     ]
    }
   ],
   "source": [
    "# Get days to expiry\n",
    "spx_prices['days_to_expiry'] = (pd.to_datetime(spx_prices.exdate, format = '%Y%m%d')-\\\n",
    "                                pd.to_datetime(spx_prices.date, format = '%Y%m%d')).dt.days\n",
    "\n",
    "print('The days to expiry of the contracts are', spx_prices['days_to_expiry'].unique())"
   ]
  },
  {
   "cell_type": "markdown",
   "id": "79957f7c",
   "metadata": {},
   "source": [
    "Unlike the attempt in the first notebook, we shall directly interpolate the zero rates."
   ]
  },
  {
   "cell_type": "code",
   "execution_count": 10,
   "id": "79953301",
   "metadata": {},
   "outputs": [
    {
     "name": "stdout",
     "output_type": "stream",
     "text": [
      "The zero rates are as follows:\n",
      "17 days: 0.1255%\n",
      "45 days: 0.2051%\n",
      "80 days: 0.2206%\n"
     ]
    }
   ],
   "source": [
    "# Attempt to interpolate discount factors for the days to maturity of concern\n",
    "xp = zero_rates['days'].to_numpy()\n",
    "fp = zero_rates['rate'].to_numpy()/100\n",
    "days_to_expiry = np.array([(pd.Timestamp(str(ex_date)) - pd.Timestamp(str(spot_date))).days for ex_date in ex_dates])\n",
    "required_zero_rates = np.interp(days_to_expiry, xp, fp)\n",
    "\n",
    "# Packages days-to-expiry (key) and required zero rates (value) into a dictionary\n",
    "r_dict = dict(zip(days_to_expiry, required_zero_rates))\n",
    "\n",
    "# Print out the zero rate given days to expiry\n",
    "print('The zero rates are as follows:')\n",
    "for key, value in r_dict.items():\n",
    "    print(\"{} days: {:.4f}%\".format(key, value*100))"
   ]
  },
  {
   "cell_type": "code",
   "execution_count": 11,
   "id": "d5c4f881",
   "metadata": {},
   "outputs": [],
   "source": [
    "# Omit data points with 0 best_bid\n",
    "spx_prices = spx_prices.loc[(spx_prices['best_bid'] != 0)]\n",
    "\n",
    "# Get only ATM and OTM contracts\n",
    "spx_prices = spx_prices[spx_prices['AOTM'] == True]\n",
    "spx_prices = spx_prices.sort_values(by = 'strike_price')\n",
    "\n",
    "# Get mid prices\n",
    "spx_prices['mid'] = 0.5*(spx_prices['best_bid'] + spx_prices['best_offer'])\n",
    "\n",
    "# Calculate required variables for implied vol calculation\n",
    "spx_prices['T'] = spx_prices['days_to_expiry'] / 365\n",
    "spx_prices['r'] = spx_prices['days_to_expiry'].apply(lambda x: r_dict[x])\n",
    "spx_prices['F'] = spx_spot * np.exp(spx_prices['r'] * spx_prices['T'])"
   ]
  },
  {
   "cell_type": "code",
   "execution_count": 12,
   "id": "40859ae0",
   "metadata": {},
   "outputs": [],
   "source": [
    "def get_implied_volatility(S, option_params):\n",
    "    # unpack options_params\n",
    "    payoff = option_params['cp_flag']\n",
    "    K = option_params['strike_price']\n",
    "    price = option_params['mid']\n",
    "    r = option_params['r']\n",
    "    T = option_params['T']\n",
    "    \n",
    "    try:\n",
    "        if payoff == 'C':\n",
    "            implied_vol = brentq(lambda x: price - black_scholes_option_pricer(S, K, r, T, x),\n",
    "                                1e-12, 10.0)\n",
    "        elif payoff == 'P':\n",
    "            implied_vol = brentq(lambda x: price - black_scholes_option_pricer(S, K, r, T, x,call = False),\n",
    "                                1e-12, 10.0)\n",
    "        else:\n",
    "            raise NameError('Payoff type not recognized: ', payoff)\n",
    "    except:\n",
    "        implied_vol = np.nan\n",
    "        \n",
    "    return implied_vol"
   ]
  },
  {
   "cell_type": "code",
   "execution_count": 13,
   "id": "71abe223",
   "metadata": {},
   "outputs": [],
   "source": [
    "spx_prices['implied_vol'] = spx_prices.apply(lambda x: get_implied_volatility(spx_spot, x), axis = 1)\n",
    "spx_prices.dropna(inplace=True)\n",
    "spx_prices_cleaned = spx_prices[['exdate', 'mid', 'cp_flag','strike_price', 'implied_vol', 'F', 'r', 'T']].copy()"
   ]
  },
  {
   "cell_type": "code",
   "execution_count": 14,
   "id": "008ca8e8",
   "metadata": {},
   "outputs": [
    {
     "data": {
      "text/html": [
       "<div>\n",
       "<style scoped>\n",
       "    .dataframe tbody tr th:only-of-type {\n",
       "        vertical-align: middle;\n",
       "    }\n",
       "\n",
       "    .dataframe tbody tr th {\n",
       "        vertical-align: top;\n",
       "    }\n",
       "\n",
       "    .dataframe thead th {\n",
       "        text-align: right;\n",
       "    }\n",
       "</style>\n",
       "<table border=\"1\" class=\"dataframe\">\n",
       "  <thead>\n",
       "    <tr style=\"text-align: right;\">\n",
       "      <th></th>\n",
       "      <th>exdate</th>\n",
       "      <th>mid</th>\n",
       "      <th>cp_flag</th>\n",
       "      <th>strike_price</th>\n",
       "      <th>implied_vol</th>\n",
       "      <th>F</th>\n",
       "      <th>r</th>\n",
       "      <th>T</th>\n",
       "    </tr>\n",
       "  </thead>\n",
       "  <tbody>\n",
       "    <tr>\n",
       "      <th>1824</th>\n",
       "      <td>20210219</td>\n",
       "      <td>0.125</td>\n",
       "      <td>P</td>\n",
       "      <td>900.0</td>\n",
       "      <td>0.926749</td>\n",
       "      <td>3664.221424</td>\n",
       "      <td>0.002206</td>\n",
       "      <td>0.219178</td>\n",
       "    </tr>\n",
       "    <tr>\n",
       "      <th>1825</th>\n",
       "      <td>20210219</td>\n",
       "      <td>0.200</td>\n",
       "      <td>P</td>\n",
       "      <td>1000.0</td>\n",
       "      <td>0.891176</td>\n",
       "      <td>3664.221424</td>\n",
       "      <td>0.002206</td>\n",
       "      <td>0.219178</td>\n",
       "    </tr>\n",
       "    <tr>\n",
       "      <th>1826</th>\n",
       "      <td>20210219</td>\n",
       "      <td>0.275</td>\n",
       "      <td>P</td>\n",
       "      <td>1100.0</td>\n",
       "      <td>0.849821</td>\n",
       "      <td>3664.221424</td>\n",
       "      <td>0.002206</td>\n",
       "      <td>0.219178</td>\n",
       "    </tr>\n",
       "    <tr>\n",
       "      <th>1827</th>\n",
       "      <td>20210219</td>\n",
       "      <td>0.350</td>\n",
       "      <td>P</td>\n",
       "      <td>1200.0</td>\n",
       "      <td>0.807115</td>\n",
       "      <td>3664.221424</td>\n",
       "      <td>0.002206</td>\n",
       "      <td>0.219178</td>\n",
       "    </tr>\n",
       "    <tr>\n",
       "      <th>1828</th>\n",
       "      <td>20210219</td>\n",
       "      <td>0.450</td>\n",
       "      <td>P</td>\n",
       "      <td>1300.0</td>\n",
       "      <td>0.768691</td>\n",
       "      <td>3664.221424</td>\n",
       "      <td>0.002206</td>\n",
       "      <td>0.219178</td>\n",
       "    </tr>\n",
       "  </tbody>\n",
       "</table>\n",
       "</div>"
      ],
      "text/plain": [
       "        exdate    mid cp_flag  strike_price  implied_vol            F  \\\n",
       "1824  20210219  0.125       P         900.0     0.926749  3664.221424   \n",
       "1825  20210219  0.200       P        1000.0     0.891176  3664.221424   \n",
       "1826  20210219  0.275       P        1100.0     0.849821  3664.221424   \n",
       "1827  20210219  0.350       P        1200.0     0.807115  3664.221424   \n",
       "1828  20210219  0.450       P        1300.0     0.768691  3664.221424   \n",
       "\n",
       "             r         T  \n",
       "1824  0.002206  0.219178  \n",
       "1825  0.002206  0.219178  \n",
       "1826  0.002206  0.219178  \n",
       "1827  0.002206  0.219178  \n",
       "1828  0.002206  0.219178  "
      ]
     },
     "execution_count": 14,
     "metadata": {},
     "output_type": "execute_result"
    }
   ],
   "source": [
    "spx_prices_cleaned.head()"
   ]
  },
  {
   "cell_type": "markdown",
   "id": "c9e1e755",
   "metadata": {},
   "source": [
    "Now we are ready to implement the Displaced-Diffusion calibration.\n",
    "\n",
    "---"
   ]
  },
  {
   "cell_type": "markdown",
   "id": "1ae39a8b",
   "metadata": {},
   "source": [
    "## Displaced-Diffusion Model\n",
    "\n",
    "The displaced-diffusion model for option pricing was first introduced by Mark Rubinstein in 1983. The idea originated from the Black 1976 model, which is an application of the Black-Scholes model on the forward price, as shown in Eq. (1).\n",
    "\n",
    "$$dF_t = \\sigma F_t dW_t \\tag{1}$$\n",
    "\n",
    "The displaced-diffusion model introduces a \"shift\" parameter $\\alpha$ which shifts the lognormal process, in Eq. (2).\n",
    "\n",
    "$$dF_t = \\sigma (F_t + \\alpha) dW_t \\tag{2}$$\n",
    "\n",
    "The shift allows the lognormal process to translate along the Y-axis, thus able to set a floor higher than zero which the process cannot trespass (if $\\alpha < 0$) or to go into the negative region (if $\\alpha < 0$) which it usually cannot.\n",
    "\n",
    "We shall use another form of the displaced-diffusion model which is more suited for option pricing, as shown in Eq. (3).\n",
    "\n",
    "$$dF_t = \\sigma[\\beta F_t + (1 - \\beta)F_0]dW_t \\tag{3}$$\n",
    "\n",
    "Here, the stochastic differential equation encompasses two different stochastic processes, namely\n",
    "1. arithmetic Brownian motion (ABM), represented by $\\sigma F_0 dW_t$\n",
    "2. geometric Brownian motion (GBM), $\\sigma F_t dW_t$\n",
    "\n",
    "The two Brownian motions were added together with ratio of $\\frac{\\beta}{1 - \\beta}$, $\\beta$ is a tuning parameter that adds weight onto the GBM. When $\\beta = 1$, the process is fully lognormal (the typical Black-Scholes Model) whereas when $\\beta = 0$ the process is fully normal (Bachelier Model). Typically $\\beta \\in (0,1)$."
   ]
  },
  {
   "cell_type": "code",
   "execution_count": 15,
   "id": "9fd41277",
   "metadata": {},
   "outputs": [],
   "source": [
    "def displaced_diffusion_option_pricer(F, K, r, T, sigma, beta, call):\n",
    "    ''' \n",
    "    Function calculates option prices based on Displaced-Diffusion Model.\n",
    "    Three modes available: Vanilla (default), Cash-or-Nothing (CON), Asset-or-Nothing (AON)\n",
    "    \n",
    "    Inputs:\n",
    "    S: underlying asset price at t; can be an array of prices\n",
    "    K: strike price; can be an array of prices\n",
    "    r: short rate, annualized\n",
    "    T: time to expiration (also the T-t in our equations), in number of years\n",
    "    sigma: implied volatility of the option\n",
    "    beta: parameter to adjust degree of \"mixture\" between geometric and arithmetic BM\n",
    "    call: default True. True if pricing call options; otherwise False\n",
    "\n",
    "    Outputs: Option Prices.\n",
    "    '''\n",
    "\n",
    "    # Calculate d1 and d2\n",
    "    d2 = (np.log(F/(beta*(K+(1-beta)/beta*F))) - (np.square(beta*sigma)*T)/2)/(beta*sigma * np.sqrt(T))\n",
    "    d1 = d2 + sigma*beta*np.sqrt(T)\n",
    "\n",
    "    #initializing d1 & d2 for call and put\n",
    "    d2 = d2 if call == True else -d2\n",
    "    d1 = d1 if call == True else -d1\n",
    "\n",
    "    #calculating the option values\n",
    "    option_values = F/beta*scipy.stats.norm.cdf(d1) - (K+(1-beta)/beta*F)*scipy.stats.norm.cdf(d2)\n",
    "    option_values = option_values if call == True else -option_values\n",
    "\n",
    "    return np.exp(-r*T)*option_values"
   ]
  },
  {
   "cell_type": "code",
   "execution_count": 16,
   "id": "b4d5ca7b",
   "metadata": {},
   "outputs": [],
   "source": [
    "def displaced_diffusion_calibration(x, strikes, cp_flag, vols, F, r, T, vol_atm, weights = np.empty(0)):\n",
    "    err = 0.0\n",
    "    \n",
    "    if not weights.size:\n",
    "        weights = np.ones(strikes.shape[0])\n",
    "\n",
    "    for i, K in enumerate(strikes):\n",
    "        if weights[i]:\n",
    "            flag = True if cp_flag.iloc[i] == 'C' else False\n",
    "            dd_price = displaced_diffusion_option_pricer(F, K, r, T, vol_atm, x, call = flag)\n",
    "            dd_imp_vol = brentq(lambda y: dd_price - black_scholes_option_pricer(F*np.exp(-r*T), K, r, T, y, call = flag),\n",
    "                                    1e-12, 10.0)\n",
    "            err += weights[i]*(vols.iloc[i] - dd_imp_vol)**2\n",
    "\n",
    "    return err"
   ]
  },
  {
   "cell_type": "code",
   "execution_count": 17,
   "id": "91a9da9a",
   "metadata": {},
   "outputs": [],
   "source": [
    "def plotter(df, DD_vols, exdate, underlying):\n",
    "    plt.figure(figsize = (8,4))\n",
    "\n",
    "    plt.plot(df['strike_price'], df['implied_vol'], 'gs', label='Market Vols')\n",
    "    plt.plot(df['strike_price'], DD_vols, 'm--', label='Displaced-Diffusion Vols')\n",
    "\n",
    "    plt.xlabel(\"Strike\")\n",
    "    plt.ylabel(\"Implied Volatility\")\n",
    "    plt.title(\"Implied volatility Smile of {0} options (expiring {1})\".format(underlying, exdate))\n",
    "    plt.legend()\n",
    "    \n",
    "    plt.show()"
   ]
  },
  {
   "cell_type": "markdown",
   "id": "215083b1",
   "metadata": {},
   "source": [
    "Recall that a typical calibration exercise entails the following steps\n",
    "\n",
    "1. Define the desired option pricing model\n",
    "2. With the known variables and an initial guess of the model parameters, compute the option prices and implied volatilities\n",
    "3. Compare the computed option prices and implied volatilities with market prices and implied volatilities\n",
    "4. Update the model parameters using selected optimization algorithm to minimize the loss function\n",
    "5. Repeat steps 2 to 4 with the new guesses until the model is optimized to achieve below a maximum tolerable error\n"
   ]
  },
  {
   "cell_type": "code",
   "execution_count": 18,
   "id": "a159063f",
   "metadata": {},
   "outputs": [
    {
     "name": "stdout",
     "output_type": "stream",
     "text": [
      "Now calibrate market prices for expiry = 20201218...\n",
      "ATM Vol for expiration date 20201218 is 0.17440921085737124!\n",
      "Calibrated Displaced-Diffusion model parameters: beta = 0.000\n",
      "The cost of the optimization (half of sum of squares), C =  373.50447697096763\n",
      "Plotting...\n"
     ]
    },
    {
     "data": {
      "image/png": "[encoded data removed]",
      "text/plain": [
       "<Figure size 576x288 with 1 Axes>"
      ]
     },
     "metadata": {
      "needs_background": "light"
     },
     "output_type": "display_data"
    },
    {
     "name": "stdout",
     "output_type": "stream",
     "text": [
      "Now calibrate market prices for expiry = 20210115...\n",
      "ATM Vol for expiration date 20210115 is 0.18482902882513988!\n",
      "Calibrated Displaced-Diffusion model parameters: beta = 0.000\n",
      "The cost of the optimization (half of sum of squares), C =  78.08166331855223\n",
      "Plotting...\n"
     ]
    },
    {
     "data": {
      "image/png": "[encoded data removed]",
      "text/plain": [
       "<Figure size 576x288 with 1 Axes>"
      ]
     },
     "metadata": {
      "needs_background": "light"
     },
     "output_type": "display_data"
    },
    {
     "name": "stdout",
     "output_type": "stream",
     "text": [
      "Now calibrate market prices for expiry = 20210219...\n",
      "ATM Vol for expiration date 20210219 is 0.19018024467291345!\n",
      "Calibrated Displaced-Diffusion model parameters: beta = 0.000\n",
      "The cost of the optimization (half of sum of squares), C =  18.229632774188083\n",
      "Plotting...\n"
     ]
    },
    {
     "data": {
      "image/png": "[encoded data removed]",
      "text/plain": [
       "<Figure size 576x288 with 1 Axes>"
      ]
     },
     "metadata": {
      "needs_background": "light"
     },
     "output_type": "display_data"
    }
   ],
   "source": [
    "DD_calibration = []\n",
    "\n",
    "for ex_date in ex_dates:\n",
    "    print('Now calibrate market prices for expiry = {}...'.format(ex_date))\n",
    "    res_dict = {'Expiry': ex_date}\n",
    "    \n",
    "    df_to_calibrate = spx_prices_cleaned.loc[spx_prices_cleaned['exdate'] == ex_date].copy()\n",
    "    df_to_calibrate = df_to_calibrate\n",
    "    \n",
    "    # Obtain necessary option parameters\n",
    "    ATM_vol_plus = df_to_calibrate[df_to_calibrate['strike_price']>spx_spot]['implied_vol'].iloc[0]\n",
    "    ATM_vol_minus = df_to_calibrate[df_to_calibrate['strike_price']<spx_spot]['implied_vol'].iloc[-1]\n",
    "\n",
    "    ATM_vol = 0.5*(ATM_vol_plus + ATM_vol_minus)\n",
    "    \n",
    "    print('ATM Vol for expiration date {0} is {1}!'.format(ex_date, ATM_vol))\n",
    "    \n",
    "    F = df_to_calibrate['F'].unique()[0]\n",
    "    r = df_to_calibrate['r'].unique()[0]\n",
    "    T = df_to_calibrate['T'].unique()[0]\n",
    "    \n",
    "    # Initial Guess for model parameter\n",
    "    DD_guess_0 = [1.0]\n",
    "    \n",
    "    # Calibrate Model to market observed Implied Vol\n",
    "    DD_res = least_squares(lambda x: displaced_diffusion_calibration(x,\n",
    "                                                                     df_to_calibrate['strike_price'],\n",
    "                                                                     df_to_calibrate['cp_flag'],\n",
    "                                                                     df_to_calibrate['implied_vol'],\n",
    "                                                                     F,\n",
    "                                                                     r,\n",
    "                                                                     T,\n",
    "                                                                     ATM_vol),\n",
    "                           DD_guess_0, bounds= (1e-10,2))\n",
    "    \n",
    "    DD_beta= DD_res.x[0]\n",
    "    \n",
    "    print('Calibrated Displaced-Diffusion model parameters: beta = %.3f' % (DD_beta))\n",
    "    print('The cost of the optimization (half of sum of squares), C = ',  DD_res.cost)\n",
    "    \n",
    "    # Derive implied vol per strike for OTM and ATM options\n",
    "    DD_vols = []\n",
    "    for i, K in enumerate(df_to_calibrate['strike_price']):\n",
    "            flag = True if df_to_calibrate.cp_flag.iloc[i] == 'C' else False\n",
    "            opt_val = displaced_diffusion_option_pricer(spx_spot,\n",
    "                                                        K, \n",
    "                                                        r, \n",
    "                                                        T, \n",
    "                                                        ATM_vol, \n",
    "                                                        DD_beta, \n",
    "                                                        call = flag)\n",
    "            \n",
    "            DD_implied_vol = brentq(lambda x: opt_val - black_scholes_option_pricer(spx_spot, \n",
    "                                                                                        K, \n",
    "                                                                                        r, \n",
    "                                                                                        T, \n",
    "                                                                                        x, \n",
    "                                                                                        call = flag),\n",
    "                                    1e-12, 10.0)\n",
    "            DD_vols.append(DD_implied_vol)\n",
    "    \n",
    "    res_dict['ATM_Vol'] = ATM_vol\n",
    "    res_dict['beta'] = DD_beta\n",
    "    \n",
    "    print('Plotting...')\n",
    "    plotter(df_to_calibrate,\\\n",
    "            DD_vols,\\\n",
    "            ex_date,\\\n",
    "            'SPX')\n",
    "    \n",
    "    DD_calibration.append(res_dict)"
   ]
  },
  {
   "cell_type": "code",
   "execution_count": 19,
   "id": "bebb002d",
   "metadata": {},
   "outputs": [
    {
     "data": {
      "text/html": [
       "<div>\n",
       "<style scoped>\n",
       "    .dataframe tbody tr th:only-of-type {\n",
       "        vertical-align: middle;\n",
       "    }\n",
       "\n",
       "    .dataframe tbody tr th {\n",
       "        vertical-align: top;\n",
       "    }\n",
       "\n",
       "    .dataframe thead th {\n",
       "        text-align: right;\n",
       "    }\n",
       "</style>\n",
       "<table border=\"1\" class=\"dataframe\">\n",
       "  <thead>\n",
       "    <tr style=\"text-align: right;\">\n",
       "      <th></th>\n",
       "      <th>ATM_Vol</th>\n",
       "      <th>beta</th>\n",
       "    </tr>\n",
       "    <tr>\n",
       "      <th>Expiry</th>\n",
       "      <th></th>\n",
       "      <th></th>\n",
       "    </tr>\n",
       "  </thead>\n",
       "  <tbody>\n",
       "    <tr>\n",
       "      <th>20201218</th>\n",
       "      <td>0.174409</td>\n",
       "      <td>8.672034e-07</td>\n",
       "    </tr>\n",
       "    <tr>\n",
       "      <th>20210115</th>\n",
       "      <td>0.184829</td>\n",
       "      <td>1.000001e-10</td>\n",
       "    </tr>\n",
       "    <tr>\n",
       "      <th>20210219</th>\n",
       "      <td>0.190180</td>\n",
       "      <td>1.753698e-07</td>\n",
       "    </tr>\n",
       "  </tbody>\n",
       "</table>\n",
       "</div>"
      ],
      "text/plain": [
       "           ATM_Vol          beta\n",
       "Expiry                          \n",
       "20201218  0.174409  8.672034e-07\n",
       "20210115  0.184829  1.000001e-10\n",
       "20210219  0.190180  1.753698e-07"
      ]
     },
     "execution_count": 19,
     "metadata": {},
     "output_type": "execute_result"
    }
   ],
   "source": [
    "df_DD = pd.DataFrame(DD_calibration)\n",
    "df_DD.set_index('Expiry', inplace=True)\n",
    "df_DD"
   ]
  },
  {
   "cell_type": "markdown",
   "id": "3081ab43",
   "metadata": {},
   "source": [
    "In the calibration, we set $\\beta$ to be between 0 and 1. Our calibrated $\\beta$ ended up to be virtually zero, which implies that the model was fitted to become almost like a Bachelier Option Pricing Model.\n",
    "\n",
    "To understand why the calibrated $\\beta$ is 0, we need to analyze the effect of $\\beta$ on the implied volatility skew. We shall vary $\\beta$ in the following demonstration, for the given set of option parameters. We shall explore $\\beta \\in \\{0.1, 0.3, 0.5, 0.7, 0.9\\}$."
   ]
  },
  {
   "cell_type": "code",
   "execution_count": 20,
   "id": "99b39b4e",
   "metadata": {},
   "outputs": [],
   "source": [
    "strikes = np.arange(2000, 5000, 100)\n",
    "ATM_vol =  df_DD.loc[20201218, 'ATM_Vol']\n",
    "T = spx_prices_cleaned.loc[spx_prices_cleaned['exdate'] == 20201218, 'T'].unique()[0]\n",
    "r = spx_prices_cleaned.loc[spx_prices_cleaned['exdate'] == 20201218, 'r'].unique()[0]\n",
    "ls_beta = []\n",
    "\n",
    "\n",
    "for beta in np.arange(0.1, 1, 0.2):\n",
    "    res_beta = []\n",
    "    for K in strikes:\n",
    "        call = True if K > spx_spot else False\n",
    "        opt_val = displaced_diffusion_option_pricer(spx_spot,\n",
    "                                                    K, \n",
    "                                                    r, \n",
    "                                                    T, \n",
    "                                                    ATM_vol, \n",
    "                                                    beta, \n",
    "                                                    call)\n",
    "\n",
    "        DD_implied_vol = brentq(lambda x: opt_val - black_scholes_option_pricer(spx_spot, \n",
    "                                                                                    K, \n",
    "                                                                                    r, \n",
    "                                                                                    T, \n",
    "                                                                                    x, \n",
    "                                                                                    call),\n",
    "                                1e-12, 10.0)\n",
    "    \n",
    "        res_beta.append(DD_implied_vol)\n",
    "    \n",
    "    res_beta = np.array(res_beta)\n",
    "    ls_beta.append(res_beta)"
   ]
  },
  {
   "cell_type": "code",
   "execution_count": 21,
   "id": "2feab78f",
   "metadata": {},
   "outputs": [
    {
     "data": {
      "image/png": "[encoded data removed]",
      "text/plain": [
       "<Figure size 432x288 with 1 Axes>"
      ]
     },
     "metadata": {
      "needs_background": "light"
     },
     "output_type": "display_data"
    }
   ],
   "source": [
    "plt.title('Effect of Beta on the fitted volatility smile')\n",
    "for arr, beta in zip(ls_beta, np.arange(0.1, 1, 0.2)):\n",
    "    plt.plot(strikes, arr, label = 'beta_0 = {:.2f}'.format(beta))\n",
    "plt.legend()\n",
    "plt.show()"
   ]
  },
  {
   "cell_type": "markdown",
   "id": "dd09a577",
   "metadata": {},
   "source": [
    "From the above experiment, we can observe that $\\beta$ adjusts for the slope of the skew. The smaller the value of beta, the more negative the gradient of the fitted curve.\n",
    "\n",
    "However, there is only one degree of freedom that can be varied to fit the market observation. However, adjusting of $\\beta$ cannot help to fit the curvature. This is the reason our calibrated $\\beta$ becomes close to zero, in order to fit the negative slope on the left and the positive slope on the right. \n",
    "\n",
    "As explained in `01_Option Smile Calibration using SABR.ipynb`, the volatility smile was caused by the need for downside protection using OTM puts and speculative activities in the OTM calls. Nearer dated options tend to exhibit stronger smile as there are more speculative activities in the options. \n",
    "\n",
    "This shows that the displaced-diffusion model may not be suitable to fit the smile of near-dated options.\n",
    "\n",
    "In the following, we shall explore limiting the fit to near ATM options (As far OTM options may be less traded for contracts that are about to expire). Also, we expanded the range of $\\beta$ to allow it to go into negative. Models with negative $\\beta$ are known as 'supernormal'."
   ]
  },
  {
   "cell_type": "code",
   "execution_count": 22,
   "id": "9fa5ced6",
   "metadata": {},
   "outputs": [],
   "source": [
    "def get_quick_delta(F, K, ATM_vol, T):\n",
    "    numer = np.log(F/K)\n",
    "    denom = ATM_vol * np.sqrt(T)\n",
    "    \n",
    "    return scipy.stats.norm.cdf(numer/denom)"
   ]
  },
  {
   "cell_type": "code",
   "execution_count": 23,
   "id": "85e9cc64",
   "metadata": {},
   "outputs": [
    {
     "name": "stdout",
     "output_type": "stream",
     "text": [
      "Now calibrate market prices for expiry = 20201218...\n",
      "ATM Vol for expiration date 20201218 is 0.17440921085737124!\n"
     ]
    },
    {
     "name": "stderr",
     "output_type": "stream",
     "text": [
      "C:\\Users\\leeca\\anaconda3\\envs\\finsinyur\\lib\\site-packages\\ipykernel_launcher.py:19: RuntimeWarning: divide by zero encountered in true_divide\n",
      "C:\\Users\\leeca\\anaconda3\\envs\\finsinyur\\lib\\site-packages\\ipykernel_launcher.py:19: RuntimeWarning: invalid value encountered in multiply\n",
      "C:\\Users\\leeca\\anaconda3\\envs\\finsinyur\\lib\\site-packages\\ipykernel_launcher.py:27: RuntimeWarning: divide by zero encountered in true_divide\n"
     ]
    },
    {
     "name": "stdout",
     "output_type": "stream",
     "text": [
      "Calibrated Displaced-Diffusion model parameters: beta = -1.993\n",
      "The cost of the optimization (half of sum of squares), C =  1.5318896858807745e-07\n",
      "Plotting...\n"
     ]
    },
    {
     "data": {
      "image/png": "[encoded data removed]",
      "text/plain": [
       "<Figure size 576x288 with 1 Axes>"
      ]
     },
     "metadata": {
      "needs_background": "light"
     },
     "output_type": "display_data"
    },
    {
     "name": "stdout",
     "output_type": "stream",
     "text": [
      "Now calibrate market prices for expiry = 20210115...\n",
      "ATM Vol for expiration date 20210115 is 0.18482902882513988!\n"
     ]
    },
    {
     "name": "stderr",
     "output_type": "stream",
     "text": [
      "C:\\Users\\leeca\\anaconda3\\envs\\finsinyur\\lib\\site-packages\\ipykernel_launcher.py:19: RuntimeWarning: divide by zero encountered in true_divide\n",
      "C:\\Users\\leeca\\anaconda3\\envs\\finsinyur\\lib\\site-packages\\ipykernel_launcher.py:19: RuntimeWarning: invalid value encountered in multiply\n",
      "C:\\Users\\leeca\\anaconda3\\envs\\finsinyur\\lib\\site-packages\\ipykernel_launcher.py:27: RuntimeWarning: divide by zero encountered in true_divide\n"
     ]
    },
    {
     "name": "stdout",
     "output_type": "stream",
     "text": [
      "Calibrated Displaced-Diffusion model parameters: beta = -1.981\n",
      "The cost of the optimization (half of sum of squares), C =  9.16453675926542e-07\n",
      "Plotting...\n"
     ]
    },
    {
     "data": {
      "image/png": "[encoded data removed]",
      "text/plain": [
       "<Figure size 576x288 with 1 Axes>"
      ]
     },
     "metadata": {
      "needs_background": "light"
     },
     "output_type": "display_data"
    },
    {
     "name": "stdout",
     "output_type": "stream",
     "text": [
      "Now calibrate market prices for expiry = 20210219...\n",
      "ATM Vol for expiration date 20210219 is 0.19018024467291345!\n"
     ]
    },
    {
     "name": "stderr",
     "output_type": "stream",
     "text": [
      "C:\\Users\\leeca\\anaconda3\\envs\\finsinyur\\lib\\site-packages\\ipykernel_launcher.py:19: RuntimeWarning: divide by zero encountered in true_divide\n",
      "C:\\Users\\leeca\\anaconda3\\envs\\finsinyur\\lib\\site-packages\\ipykernel_launcher.py:19: RuntimeWarning: invalid value encountered in multiply\n",
      "C:\\Users\\leeca\\anaconda3\\envs\\finsinyur\\lib\\site-packages\\ipykernel_launcher.py:27: RuntimeWarning: divide by zero encountered in true_divide\n"
     ]
    },
    {
     "name": "stdout",
     "output_type": "stream",
     "text": [
      "Calibrated Displaced-Diffusion model parameters: beta = -2.000\n",
      "The cost of the optimization (half of sum of squares), C =  1.5137199650093162e-06\n",
      "Plotting...\n"
     ]
    },
    {
     "data": {
      "image/png": "[encoded data removed]",
      "text/plain": [
       "<Figure size 576x288 with 1 Axes>"
      ]
     },
     "metadata": {
      "needs_background": "light"
     },
     "output_type": "display_data"
    }
   ],
   "source": [
    "DD_calibration = []\n",
    "\n",
    "for ex_date in ex_dates:\n",
    "    print('Now calibrate market prices for expiry = {}...'.format(ex_date))\n",
    "    res_dict = {'Expiry': ex_date}\n",
    "    \n",
    "    df_to_calibrate = spx_prices_cleaned.loc[spx_prices_cleaned['exdate'] == ex_date].copy()\n",
    "    \n",
    "    ATM_vol_plus = df_to_calibrate[df_to_calibrate['strike_price']>spx_spot]['implied_vol'].iloc[0]\n",
    "    ATM_vol_minus = df_to_calibrate[df_to_calibrate['strike_price']<spx_spot]['implied_vol'].iloc[-1]\n",
    "\n",
    "    ATM_vol = 0.5*(ATM_vol_plus + ATM_vol_minus)\n",
    "    \n",
    "    print('ATM Vol for expiration date {0} is {1}!'.format(ex_date, ATM_vol))\n",
    "    \n",
    "    F = df_to_calibrate['F'].unique()[0]\n",
    "    r = df_to_calibrate['r'].unique()[0]\n",
    "    T = df_to_calibrate['T'].unique()[0]\n",
    "    \n",
    "    QD = get_quick_delta(F, df_to_calibrate['strike_price'], ATM_vol, T)\n",
    "    weights = np.array([1 if 0.4 < x < 0.6 else 0 for x in QD])\n",
    "    DD_guess_0 = [1.0]\n",
    "    \n",
    "    DD_res = least_squares(lambda x: displaced_diffusion_calibration(x,\n",
    "                                                                     df_to_calibrate['strike_price'],\n",
    "                                                                     df_to_calibrate['cp_flag'],\n",
    "                                                                     df_to_calibrate['implied_vol'],\n",
    "                                                                     F,\n",
    "                                                                     r,\n",
    "                                                                     T,\n",
    "                                                                     ATM_vol,\n",
    "                                                                    weights),\n",
    "                           DD_guess_0, bounds= (-2,2))\n",
    "    \n",
    "    DD_beta= DD_res.x[0]\n",
    "    \n",
    "    print('Calibrated Displaced-Diffusion model parameters: beta = %.3f' % (DD_beta))\n",
    "    print('The cost of the optimization (half of sum of squares), C = ',  DD_res.cost)\n",
    "    \n",
    "    DD_vols = []\n",
    "    for i, K in enumerate(df_to_calibrate['strike_price']):\n",
    "            flag = True if df_to_calibrate.cp_flag.iloc[i] == 'C' else False\n",
    "            opt_val = displaced_diffusion_option_pricer(spx_spot,\n",
    "                                                        K, \n",
    "                                                        r, \n",
    "                                                        T, \n",
    "                                                        ATM_vol, \n",
    "                                                        DD_beta, \n",
    "                                                        call = flag)\n",
    "            \n",
    "            DD_implied_vol = brentq(lambda x: opt_val - black_scholes_option_pricer(spx_spot, \n",
    "                                                                                        K, \n",
    "                                                                                        r, \n",
    "                                                                                        T, \n",
    "                                                                                        x, \n",
    "                                                                                        call = flag),\n",
    "                                    1e-12, 10.0)\n",
    "            DD_vols.append(DD_implied_vol)\n",
    "            \n",
    "    res_dict['beta'] = DD_beta\n",
    "    \n",
    "    print('Plotting...')\n",
    "    plotter(df_to_calibrate,\\\n",
    "            DD_vols,\\\n",
    "            ex_date,\\\n",
    "            'SPX')\n",
    "    \n",
    "    DD_calibration.append(res_dict)"
   ]
  },
  {
   "cell_type": "code",
   "execution_count": 24,
   "id": "c6157adb",
   "metadata": {},
   "outputs": [
    {
     "data": {
      "text/html": [
       "<div>\n",
       "<style scoped>\n",
       "    .dataframe tbody tr th:only-of-type {\n",
       "        vertical-align: middle;\n",
       "    }\n",
       "\n",
       "    .dataframe tbody tr th {\n",
       "        vertical-align: top;\n",
       "    }\n",
       "\n",
       "    .dataframe thead th {\n",
       "        text-align: right;\n",
       "    }\n",
       "</style>\n",
       "<table border=\"1\" class=\"dataframe\">\n",
       "  <thead>\n",
       "    <tr style=\"text-align: right;\">\n",
       "      <th></th>\n",
       "      <th>beta</th>\n",
       "    </tr>\n",
       "    <tr>\n",
       "      <th>Expiry</th>\n",
       "      <th></th>\n",
       "    </tr>\n",
       "  </thead>\n",
       "  <tbody>\n",
       "    <tr>\n",
       "      <th>20201218</th>\n",
       "      <td>-1.993127</td>\n",
       "    </tr>\n",
       "    <tr>\n",
       "      <th>20210115</th>\n",
       "      <td>-1.981309</td>\n",
       "    </tr>\n",
       "    <tr>\n",
       "      <th>20210219</th>\n",
       "      <td>-1.999905</td>\n",
       "    </tr>\n",
       "  </tbody>\n",
       "</table>\n",
       "</div>"
      ],
      "text/plain": [
       "              beta\n",
       "Expiry            \n",
       "20201218 -1.993127\n",
       "20210115 -1.981309\n",
       "20210219 -1.999905"
      ]
     },
     "execution_count": 24,
     "metadata": {},
     "output_type": "execute_result"
    }
   ],
   "source": [
    "df_DD = pd.DataFrame(DD_calibration)\n",
    "df_DD.set_index('Expiry', inplace=True)\n",
    "df_DD"
   ]
  },
  {
   "cell_type": "markdown",
   "id": "02b5dac5",
   "metadata": {},
   "source": [
    "---\n",
    "# References\n",
    "Rubinstein, M. (1983). Displaced Diffusion Option Pricing. The Journal of Finance, 38(1), 213–217. https://doi.org/10.2307/2327648"
   ]
  }
 ],
 "metadata": {
  "kernelspec": {
   "display_name": "Python 3 (ipykernel)",
   "language": "python",
   "name": "python3"
  },
  "language_info": {
   "codemirror_mode": {
    "name": "ipython",
    "version": 3
   },
   "file_extension": ".py",
   "mimetype": "text/x-python",
   "name": "python",
   "nbconvert_exporter": "python",
   "pygments_lexer": "ipython3",
   "version": "3.7.11"
  }
 },
 "nbformat": 4,
 "nbformat_minor": 5
}
